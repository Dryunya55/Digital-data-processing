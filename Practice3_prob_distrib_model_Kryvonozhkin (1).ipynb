{
 "cells": [
  {
   "cell_type": "code",
   "execution_count": 2,
   "id": "floppy-waterproof",
   "metadata": {
    "executionInfo": {
     "elapsed": 40,
     "status": "ok",
     "timestamp": 1645432101310,
     "user": {
      "displayName": "Андрій Сергійович Рубель",
      "photoUrl": "https://lh3.googleusercontent.com/a/default-user=s64",
      "userId": "11227528985300011755"
     },
     "user_tz": -120
    },
    "id": "floppy-waterproof"
   },
   "outputs": [],
   "source": [
    "\n",
    "jimport numpy as np\n",
    "import matplotlib.pyplot as plt\n",
    "from scipy.stats import kurtosis\n",
    "from scipy.stats import skew\n",
    "%matplotlib inline"
   ]
  },
  {
   "cell_type": "markdown",
   "id": "split-emperor",
   "metadata": {
    "id": "split-emperor"
   },
   "source": [
    "# Равномерное распределение"
   ]
  },
  {
   "cell_type": "code",
   "execution_count": 5,
   "id": "amazing-environment",
   "metadata": {
    "executionInfo": {
     "elapsed": 1064,
     "status": "ok",
     "timestamp": 1645432143563,
     "user": {
      "displayName": "Андрій Сергійович Рубель",
      "photoUrl": "https://lh3.googleusercontent.com/a/default-user=s64",
      "userId": "11227528985300011755"
     },
     "user_tz": -120
    },
    "id": "amazing-environment"
   },
   "outputs": [],
   "source": [
    "a, b = 0, 1\n",
    "x_uniform = np.random.uniform(a, b, 10000)"
   ]
  },
  {
   "cell_type": "code",
   "execution_count": 6,
   "id": "indirect-affiliate",
   "metadata": {
    "colab": {
     "base_uri": "https://localhost:8080/"
    },
    "executionInfo": {
     "elapsed": 614,
     "status": "ok",
     "timestamp": 1645432150066,
     "user": {
      "displayName": "Андрій Сергійович Рубель",
      "photoUrl": "https://lh3.googleusercontent.com/a/default-user=s64",
      "userId": "11227528985300011755"
     },
     "user_tz": -120
    },
    "id": "indirect-affiliate",
    "outputId": "a65aec71-7b34-4b78-b3d5-978fac6422ed"
   },
   "outputs": [
    {
     "name": "stdout",
     "output_type": "stream",
     "text": [
      "Среднее значение :  0.4971298900458967\n"
     ]
    }
   ],
   "source": [
    "print(\"Среднее значение : \", np.mean(x_uniform))"
   ]
  },
  {
   "cell_type": "code",
   "execution_count": null,
   "id": "prescribed-attachment",
   "metadata": {
    "id": "prescribed-attachment",
    "outputId": "92ac816d-b502-4132-cd90-9b133fd7443f"
   },
   "outputs": [
    {
     "name": "stdout",
     "output_type": "stream",
     "text": [
      "Дисперсия :  0.08527056959601371\n"
     ]
    }
   ],
   "source": [
    "print(\"Дисперсия : \", np.var(x_uniform))"
   ]
  },
  {
   "cell_type": "code",
   "execution_count": null,
   "id": "continuous-internship",
   "metadata": {
    "id": "continuous-internship",
    "outputId": "a3d2d50a-6142-462d-d14a-c8729dfd021e"
   },
   "outputs": [
    {
     "name": "stdout",
     "output_type": "stream",
     "text": [
      "Коэффициент асимметрии :  0.002897540100322546\n"
     ]
    }
   ],
   "source": [
    "print(\"Коэффициент асимметрии : \", skew(x_uniform)) "
   ]
  },
  {
   "cell_type": "code",
   "execution_count": null,
   "id": "controlling-activity",
   "metadata": {
    "id": "controlling-activity",
    "outputId": "54fcee3f-7723-4f49-eb9d-6ae90b21e78f"
   },
   "outputs": [
    {
     "name": "stdout",
     "output_type": "stream",
     "text": [
      "Коэффициент эксцесса :  -1.2605365986097614\n"
     ]
    }
   ],
   "source": [
    "print(\"Коэффициент эксцесса : \", kurtosis(x_uniform)) "
   ]
  },
  {
   "cell_type": "code",
   "execution_count": 7,
   "id": "pregnant-register",
   "metadata": {
    "colab": {
     "base_uri": "https://localhost:8080/",
     "height": 375
    },
    "executionInfo": {
     "elapsed": 488,
     "status": "ok",
     "timestamp": 1645432186767,
     "user": {
      "displayName": "Андрій Сергійович Рубель",
      "photoUrl": "https://lh3.googleusercontent.com/a/default-user=s64",
      "userId": "11227528985300011755"
     },
     "user_tz": -120
    },
    "id": "pregnant-register",
    "outputId": "174d2a63-dbdd-4174-cc30-b9cf0626a154"
   },
   "outputs": [
    {
     "data": {
      "text/plain": [
       "(array([1009., 1031., 1015.,  999., 1004.,  969., 1011.,  968.,  997.,\n",
       "         997.]),\n",
       " array([1.47351043e-04, 1.00131318e-01, 2.00115285e-01, 3.00099252e-01,\n",
       "        4.00083220e-01, 5.00067187e-01, 6.00051154e-01, 7.00035121e-01,\n",
       "        8.00019088e-01, 9.00003055e-01, 9.99987022e-01]),\n",
       " <a list of 10 Patch objects>)"
      ]
     },
     "execution_count": 7,
     "metadata": {},
     "output_type": "execute_result"
    },
    {
     "data": {
      "image/png": "[encoded data removed]",
      "text/plain": [
       "<Figure size 432x288 with 1 Axes>"
      ]
     },
     "metadata": {
      "needs_background": "light"
     },
     "output_type": "display_data"
    }
   ],
   "source": [
    "plt.hist(x_uniform, 10, edgecolor='k')"
   ]
  },
  {
   "cell_type": "code",
   "execution_count": 8,
   "id": "induced-restoration",
   "metadata": {
    "colab": {
     "base_uri": "https://localhost:8080/",
     "height": 265
    },
    "executionInfo": {
     "elapsed": 272,
     "status": "ok",
     "timestamp": 1645432200437,
     "user": {
      "displayName": "Андрій Сергійович Рубель",
      "photoUrl": "https://lh3.googleusercontent.com/a/default-user=s64",
      "userId": "11227528985300011755"
     },
     "user_tz": -120
    },
    "id": "induced-restoration",
    "outputId": "c3f05c3c-511f-47e0-a11a-7bf3aa9d21db"
   },
   "outputs": [
    {
     "data": {
      "image/png": "[encoded data removed]",
      "text/plain": [
       "<Figure size 432x288 with 1 Axes>"
      ]
     },
     "metadata": {
      "needs_background": "light"
     },
     "output_type": "display_data"
    }
   ],
   "source": [
    "count, bins, ignored = plt.hist(x_uniform, 10, edgecolor='k', density=True)\n",
    "plt.plot(bins, np.ones_like(bins), linewidth=2, color='r')\n",
    "plt.show()"
   ]
  },
  {
   "cell_type": "markdown",
   "id": "graduate-madagascar",
   "metadata": {
    "id": "graduate-madagascar"
   },
   "source": [
    "## Моделирование равномерно распределенной случайной величины c использованием линейного конгруэнтного метода\n",
    "\n",
    "#### Необходимо задать следующие параметры:\n",
    "* $m$, $m>0$ - модуль;\n",
    "* $a$, $0\\leq a<m$ - множитель;\n",
    "* $c$, $0\\leq c<m$ - приращение;\n",
    "* $X_0$, $0\\leq X_0<m$ - начальное значение последовательности.\n",
    "\n",
    "#### Последовательность псевдослучайных чисел:\n",
    "$$X_{n+1} = (aX_n + c)\\ mod \\ m$$ \n",
    "$n \\geq 0$\n",
    "\n",
    "**Значение $m$ следует выбирать достаточно большим,поскольку период последовательности\n",
    "не превышает $m$.**\n",
    "\n",
    "#### Установите следующие значения параметров:\n",
    "* $m = 2^{31}-1$;\n",
    "* $a = 16807$;\n",
    "* $c=1$;\n",
    "* $seed = 12345$;\n",
    "* начальное значение $X_0 = (seed \\cdot a + 1) \\ mod \\ m$ (полученное значение затем разделить на $m$);\n",
    "* остальные значения последовательности $X_{n+1}$ также разделить на $m$ (таким образом, значения последовательности будут находится в диапазоне (0,1]);\n",
    "* привести диапазон сгенерированных значений в интервал $(a,b)$ в соответствии со своим вариантом."
   ]
  },
  {
   "cell_type": "code",
   "execution_count": null,
   "id": "arQAcjpjb8pc",
   "metadata": {
    "id": "arQAcjpjb8pc"
   },
   "outputs": [],
   "source": []
  },
  {
   "cell_type": "markdown",
   "id": "approved-supervision",
   "metadata": {
    "id": "approved-supervision"
   },
   "source": [
    "# Нормальное распределение"
   ]
  },
  {
   "cell_type": "code",
   "execution_count": null,
   "id": "direct-welding",
   "metadata": {
    "id": "direct-welding"
   },
   "outputs": [],
   "source": [
    "mu, sigma = 0, 0.1\n",
    "x_n = np.random.normal(mu, sigma, 1000)"
   ]
  },
  {
   "cell_type": "code",
   "execution_count": null,
   "id": "bizarre-cause",
   "metadata": {
    "id": "bizarre-cause",
    "outputId": "66405941-1181-4fc6-c9f3-c65b764482a6"
   },
   "outputs": [
    {
     "data": {
      "image/png": "[encoded data removed]",
      "text/plain": [
       "<Figure size 432x288 with 1 Axes>"
      ]
     },
     "metadata": {
      "needs_background": "light"
     },
     "output_type": "display_data"
    }
   ],
   "source": [
    "count, bins, ignored = plt.hist(x_n, 30, edgecolor='k', density = True)"
   ]
  },
  {
   "cell_type": "code",
   "execution_count": null,
   "id": "alike-penguin",
   "metadata": {
    "id": "alike-penguin",
    "outputId": "f5fd6dd0-0d93-4133-8348-679d76210861"
   },
   "outputs": [
    {
     "data": {
      "image/png": "[encoded data removed]",
      "text/plain": [
       "<Figure size 432x288 with 1 Axes>"
      ]
     },
     "metadata": {
      "needs_background": "light"
     },
     "output_type": "display_data"
    }
   ],
   "source": [
    "plt.plot(bins, 1/(sigma * np.sqrt(2*np.pi)) * np.exp(- (bins - mu)**2 / (2 * sigma**2)), linewidth=2, color='r')\n",
    "plt.show()"
   ]
  },
  {
   "cell_type": "code",
   "execution_count": null,
   "id": "respected-cattle",
   "metadata": {
    "id": "respected-cattle",
    "outputId": "4014c22c-0cb6-47db-e9c1-8b7116598cc1"
   },
   "outputs": [
    {
     "data": {
      "image/png": "[encoded data removed]",
      "text/plain": [
       "<Figure size 432x288 with 1 Axes>"
      ]
     },
     "metadata": {
      "needs_background": "light"
     },
     "output_type": "display_data"
    }
   ],
   "source": [
    "count, bins, ignored = plt.hist(x_n, 30, edgecolor='k', density=True)\n",
    "plt.plot(bins, 1/(sigma * np.sqrt(2*np.pi)) * np.exp(- (bins - mu)**2 / (2 * sigma**2)), linewidth=2, color='r')\n",
    "plt.show()"
   ]
  },
  {
   "cell_type": "markdown",
   "id": "direct-signal",
   "metadata": {
    "id": "direct-signal"
   },
   "source": [
    "## Моделирование нормального распределения с использованием преобразования Бокса-Мюллера\n",
    "\n",
    "* Получить две случайные величины $U_1$ и $U_2$, равномерно распределённые на интервале $(0 , 1]$.\n",
    "* Вычислить $z_0$ и $z_1$:\n",
    "$$z_0 = \\sqrt {-2\\ln U_1}cos(2\\pi U_2)$$     \n",
    "$$z_1 = \\sqrt {-2\\ln U_1}sin(2\\pi U_2)$$\n",
    "* Для получения заданного мат. ожидания и дисперсии:\n",
    "$$z = z_0\\sigma + \\mu$$"
   ]
  },
  {
   "cell_type": "markdown",
   "id": "mechanical-spouse",
   "metadata": {
    "id": "mechanical-spouse"
   },
   "source": [
    "# Распределение Рэлея"
   ]
  },
  {
   "cell_type": "code",
   "execution_count": 6,
   "id": "surrounded-genius",
   "metadata": {
    "id": "surrounded-genius",
    "outputId": "56b7363e-2688-423e-d244-811e20c985cb"
   },
   "outputs": [
    {
     "data": {
      "image/png": "[encoded data removed]",
      "text/plain": [
       "<Figure size 432x288 with 1 Axes>"
      ]
     },
     "metadata": {
      "needs_background": "light"
     },
     "output_type": "display_data"
    }
   ],
   "source": [
    "x_r = np.random.rayleigh(3, 1000)\n",
    "count, bins, ignored = plt.hist(x_r, 20, edgecolor='k', density=True)"
   ]
  },
  {
   "cell_type": "markdown",
   "id": "reliable-bernard",
   "metadata": {
    "id": "reliable-bernard"
   },
   "source": [
    "## Моделирование распределения Рэлея\n",
    "\n",
    "* Получить две случайные нормально распределенные величины $x$ и $y$ с нулевым математическим ожиданием и одинаковыми дисперсиями ($\\sigma$ в соответствии со своим номером варианта).\n",
    "* Случайная величина с законом распределения Рэлея рассчитывается как: \n",
    "$$R = \\sqrt{x^2 + y^2}$$"
   ]
  },
  {
   "cell_type": "markdown",
   "id": "decreased-painting",
   "metadata": {
    "id": "decreased-painting"
   },
   "source": [
    "# Распределение Пуассона"
   ]
  },
  {
   "cell_type": "code",
   "execution_count": null,
   "id": "honey-france",
   "metadata": {
    "id": "honey-france",
    "outputId": "4c1ce936-dc59-47a9-d1b8-0de5ae09d9f6"
   },
   "outputs": [
    {
     "data": {
      "image/png": "[encoded data removed]",
      "text/plain": [
       "<Figure size 432x288 with 1 Axes>"
      ]
     },
     "metadata": {
      "needs_background": "light"
     },
     "output_type": "display_data"
    }
   ],
   "source": [
    "x_p = np.random.poisson(2, 1000)\n",
    "count, bins, ignored = plt.hist(x_p, 20, edgecolor='k', density=True)"
   ]
  },
  {
   "cell_type": "markdown",
   "id": "noble-timeline",
   "metadata": {
    "id": "noble-timeline"
   },
   "source": [
    "# Задание\n",
    "\n",
    "1. Для каждого распределения с варьируемым размером выборки рассчитать статистические моменты, а именно выборочное среднее, выборочную дисперсию и выборочные коэффициенты асимметрии и эксцесса.\n",
    "2. Построить гистограмму для полученной выборки и совместить её с графиком теоретической плотности распределения вероятностей.\n",
    "3. Выполнить моделирование непрерывного равномерного распределения с помощью линейного конгруэнтного метода.\n",
    "4. Выполнить моделирование нормального распределения с помощью преобразования Бокса-Мюллера.\n",
    "5. Выполнить моделирование распределения Рэлея.\n"
   ]
  },
  {
   "cell_type": "markdown",
   "id": "dressed-accountability",
   "metadata": {
    "id": "dressed-accountability"
   },
   "source": [
    "# Темы для подготовки к защите практического задания №3\n",
    "\n",
    "1. Случайные величины и процессы. Детерминированные и случайные процессы. Непрерывные и дискретные случайные величины.\n",
    "2.\tФункция распределения случайной величины. Свойства функций распределения. Плотность распределения вероятности и её свойства.\n",
    "3.\tНормальное (гауссово) распределение. Распределение Рэлея. Равномерное распределение. Распределение Пуассона.\n",
    "4.\tЛинейный конгруэнтный метод моделирования случайных величин. Моделирование нормального распределения (центральная предельная теорема, преобразование Бокса-Мюллера). Моделирование распределения Рэлея.\n",
    "5.\tЧисловые характеристики случайных величин. Моменты случайной величины. Математическое ожидание. Свойства математического ожидания. Центральные моменты случайной величины. Дисперсия случайной величины и её свойства. Коэффициент асимметрии. Коэффициент эксцесса."
   ]
  },
  {
   "cell_type": "code",
   "execution_count": 2,
   "id": "surprised-helena",
   "metadata": {
    "id": "surprised-helena"
   },
   "outputs": [
    {
     "name": "stdout",
     "output_type": "stream",
     "text": [
      "Среднее значение :  6.975172680139248\n",
      "Дисперсия :  1.3259867832197252\n",
      "Коэффициент асимметрии :  0.02371707553868911\n",
      "Коэффициент эксцесса :  -1.1902320213124413\n"
     ]
    },
    {
     "data": {
      "image/png": "[encoded data removed]",
      "text/plain": [
       "<Figure size 432x288 with 1 Axes>"
      ]
     },
     "metadata": {
      "needs_background": "light"
     },
     "output_type": "display_data"
    },
    {
     "name": "stdout",
     "output_type": "stream",
     "text": [
      "Среднее значение :  6.571428571428571\n",
      "Дисперсия :  4.816326530612246\n",
      "Коэффициент асимметрии :  0.06619775134618193\n",
      "Коэффициент эксцесса :  -0.8937805228382651\n",
      "Среднее значение :  3.8376346032109714\n",
      "Дисперсия :  4.00286696671466\n",
      "Коэффициент асимметрии :  0.5799270637499512\n",
      "Коэффициент эксцесса :  0.0041999341751854935\n",
      "Моделирование распределения Рэлея\n",
      "[1.64210175e+01 8.73177458e+00 5.92312986e+00 6.92147741e+00\n",
      " 5.76634798e+00 4.81845555e+00 8.95202162e+00 1.54748381e+01\n",
      " 6.37328260e+00 1.03830565e+01 1.46818226e+01 5.25499293e+00\n",
      " 6.02207702e+00 1.83091736e+01 8.15511019e+00 1.42347316e+01\n",
      " 3.25330474e+00 7.09963467e+00 1.74342611e+01 1.41004082e+01\n",
      " 1.05819521e+01 7.75052176e+00 5.92293643e+00 1.18831986e+01\n",
      " 5.98051822e+00 1.92172214e+01 1.05799843e+01 7.72992502e+00\n",
      " 8.74916037e+00 6.78833424e+00 9.41198546e+00 1.03784258e+01\n",
      " 1.00104336e+01 5.48575516e+00 1.33156756e+01 1.88725092e+00\n",
      " 1.02388585e+01 1.13612142e+01 4.98466272e+00 1.28762179e+01\n",
      " 8.89417044e+00 8.30248481e+00 1.06814880e+01 7.68154961e+00\n",
      " 1.04644152e+01 1.50222629e+01 1.39008667e+01 1.28096952e+01\n",
      " 1.14862051e+01 1.18311884e+01 7.21942562e+00 8.20081930e+00\n",
      " 1.24439113e+01 9.47714856e+00 9.63156204e+00 6.16923120e+00\n",
      " 1.42260864e+01 1.24149724e+01 7.93710718e+00 1.01032631e+01\n",
      " 9.22159672e+00 5.01420087e+00 8.18875367e+00 2.59487389e+00\n",
      " 1.50869897e+01 9.56687721e+00 7.40929864e-01 7.73134672e+00\n",
      " 3.73124488e+00 1.49642574e+01 3.61577297e+00 1.16367359e+01\n",
      " 1.11531355e+01 1.63223280e+01 2.36169155e+00 2.25633117e+01\n",
      " 7.30031056e+00 1.84828637e+01 1.90436158e+01 1.26562766e+01\n",
      " 4.22187518e+00 1.13641393e+01 4.66276969e+00 5.21664565e+00\n",
      " 1.70988493e+01 9.20290222e+00 7.99906995e+00 1.38420640e+01\n",
      " 1.00726872e+01 7.15773296e+00 2.42972994e+01 3.68226631e+00\n",
      " 7.52993752e+00 1.42096246e+01 6.48590071e+00 4.12138095e+00\n",
      " 1.31058914e+01 8.06986856e+00 1.04498385e+01 7.46733751e+00\n",
      " 2.28950467e+00 1.26840900e+01 5.58585450e+00 6.22935218e+00\n",
      " 1.55231949e+01 1.48939945e+01 1.50766305e+01 1.22712935e+01\n",
      " 1.10032672e+01 9.50155730e-01 5.09333950e+00 1.07585936e+01\n",
      " 8.13099213e+00 8.84829067e-01 8.47753687e+00 1.06312668e+01\n",
      " 2.35065724e+00 1.56503072e+01 9.42456357e+00 1.55023749e+01\n",
      " 4.76913331e+00 1.13709180e+01 1.09712549e+01 1.00918044e+01\n",
      " 4.09021694e+00 6.15699098e+00 5.79029036e+00 4.63017979e+00\n",
      " 2.13177654e+01 5.56379142e+00 7.47656879e+00 1.25564062e+01\n",
      " 2.03226841e+01 1.69733255e+01 1.16963051e+01 9.17613941e+00\n",
      " 1.11598406e+01 3.25206175e+00 1.46081283e+01 7.60973077e+00\n",
      " 1.88107534e+01 1.01264075e+01 2.92682998e+00 9.67820352e+00\n",
      " 5.67761872e+00 1.14750274e+01 9.22544255e+00 4.61029040e+00\n",
      " 4.94064853e+00 2.48636302e+00 4.12421424e+00 1.03793125e+01\n",
      " 1.03586972e+01 1.32320233e+01 7.67398657e+00 3.18410022e+00\n",
      " 1.61021969e+01 1.00202271e+01 8.61057432e+00 8.67230969e+00\n",
      " 3.24721894e+00 1.21777872e+01 1.27663293e+00 6.31566806e+00\n",
      " 9.95803222e+00 9.07443582e+00 3.06799912e+00 8.34457327e+00\n",
      " 5.52467536e+00 3.50033202e+00 6.37089150e+00 6.51835393e+00\n",
      " 7.81374534e+00 1.05835329e+01 4.90587892e+00 1.14227006e+01\n",
      " 9.08515339e+00 1.88543673e+01 4.77345900e+00 1.14233161e+01\n",
      " 1.26872071e+01 5.63459926e+00 5.98228937e+00 4.35631337e+00\n",
      " 1.26858508e+01 8.59580127e+00 5.43198833e+00 4.11761581e+00\n",
      " 4.67849037e+00 2.19390622e+00 1.91264552e+01 1.41560358e+00\n",
      " 1.01586174e+01 6.19557819e+00 5.84676516e+00 7.86139900e+00\n",
      " 1.48897639e+00 1.00194620e+01 5.43217412e+00 7.89995273e+00\n",
      " 6.52655353e+00 1.77187152e+00 8.34563369e+00 4.79303936e+00\n",
      " 1.26852731e+01 1.66213337e+01 1.06648926e+01 3.34465976e+00\n",
      " 9.26605057e+00 1.01289907e+00 2.35885033e+00 5.76068256e+00\n",
      " 6.79451596e+00 1.33571376e+01 1.00819307e+01 1.03200615e+01\n",
      " 7.89414062e+00 3.74455397e+00 5.01090429e+00 2.30713604e+00\n",
      " 6.97343700e+00 1.20899379e+01 1.10112773e+01 1.44295590e+01\n",
      " 2.05875738e+00 1.12670017e+01 6.18264122e+00 2.16767444e+00\n",
      " 1.70041287e+01 8.63518861e+00 1.57157507e+01 1.18785421e+01\n",
      " 1.47821839e+00 9.35594566e+00 4.92753981e+00 8.43411997e+00\n",
      " 2.37563829e+00 5.18264910e+00 1.34418906e+01 1.53350786e+01\n",
      " 7.27536993e+00 8.07628511e+00 1.71372506e+01 5.73096505e+00\n",
      " 5.94256155e+00 1.62440438e+01 2.09915898e+01 9.41204107e+00\n",
      " 1.33220147e+01 1.70136081e+01 1.86667594e+01 1.19233094e+01\n",
      " 4.15449307e+00 1.20810313e+01 1.29951678e+01 1.27574422e+01\n",
      " 1.20479478e+01 5.48581968e+00 1.13729965e+01 7.47114490e+00\n",
      " 5.76902843e+00 2.45197521e+01 1.30961578e+01 3.43134265e+00\n",
      " 9.65698254e+00 1.42913810e+01 7.11212641e+00 1.44165194e+01\n",
      " 2.32075719e+00 9.10659798e+00 3.35396456e+00 6.19895382e+00\n",
      " 1.25266422e+01 6.93374438e+00 5.08790923e+00 8.67780781e+00\n",
      " 7.57430039e+00 8.39696071e+00 1.26134395e+01 5.94131913e+00\n",
      " 8.78090626e+00 4.31697932e+00 1.00841419e+01 5.54529671e+00\n",
      " 8.70818826e+00 1.02243516e+01 1.19119325e+01 1.22462491e+01\n",
      " 7.47975318e+00 6.14920673e+00 1.42478268e+01 7.85903066e+00\n",
      " 1.79178738e+01 7.79358377e+00 9.51423969e+00 3.70112221e+00\n",
      " 1.50246668e+01 9.56339115e+00 2.06170794e+01 5.76206611e+00\n",
      " 8.53176085e+00 3.03285083e+00 3.77132196e+00 7.19316220e+00\n",
      " 2.13456424e+01 6.69910505e+00 4.37186768e+00 1.33898576e+01\n",
      " 1.50662912e+01 3.73917109e+00 3.76238888e+00 1.14370117e+01\n",
      " 8.43505202e+00 7.46242948e+00 3.43318427e+00 7.31342302e+00\n",
      " 4.66835312e+00 1.41113223e+01 7.19226284e+00 1.30107820e+01\n",
      " 9.08498179e+00 2.11167545e+01 1.75036799e+01 5.47832703e+00\n",
      " 5.05570590e+00 1.06925912e+01 1.37201021e+01 1.01593282e+01\n",
      " 1.89111484e+01 9.11758997e+00 1.13725322e+01 8.05284611e+00\n",
      " 1.45522019e+01 2.31509262e+00 7.10683417e+00 4.17373000e+00\n",
      " 1.12349859e+01 5.00146041e+00 3.83684623e+00 3.23122590e+00\n",
      " 1.13691760e+01 7.87940342e+00 8.95257808e+00 2.10552281e+00\n",
      " 1.55864133e+01 6.15319331e+00 8.25261768e+00 1.01881969e+01\n",
      " 9.46490434e+00 9.83620199e+00 1.34567240e+01 6.90136003e+00\n",
      " 1.37499179e+01 4.82535535e+00 8.05795048e+00 8.52234463e+00\n",
      " 2.52378635e+01 1.32356074e+01 1.76099256e+01 3.33931701e+00\n",
      " 1.03935043e+01 3.88928179e+00 1.51603067e+01 9.06907085e+00\n",
      " 8.67787976e+00 5.26392639e+00 8.98619902e+00 8.48780973e+00\n",
      " 9.97153653e+00 6.62102100e+00 3.30054702e+00 2.66765197e+00\n",
      " 5.65301929e+00 1.03207916e+01 1.27003806e+01 2.19234948e+00\n",
      " 2.05590995e+00 1.00799074e+01 6.85222452e+00 1.03129890e+01\n",
      " 1.19200296e+01 1.00285759e+01 7.43761364e+00 9.47115046e+00\n",
      " 1.42112441e+00 6.95373139e+00 1.10804413e+01 4.92006328e+00\n",
      " 5.90619453e+00 8.27599270e+00 4.30104942e+00 1.28404768e+01\n",
      " 5.03720759e+00 8.99283424e+00 7.15778674e+00 1.12661285e+01\n",
      " 1.19933560e+01 9.72329086e+00 5.86185416e+00 2.22877704e+01\n",
      " 7.80668195e+00 3.39977378e+00 9.60765848e+00 1.24639268e+01\n",
      " 1.00123268e+01 1.77633096e+01 1.00282784e+01 5.41549686e+00\n",
      " 1.37026075e+01 8.69666621e+00 1.24835279e+01 7.84200011e+00\n",
      " 1.70447483e+01 7.87709486e+00 4.69839617e+00 1.36621661e+01\n",
      " 1.12838112e+01 4.07751733e+00 4.75453735e+00 1.22395593e+01\n",
      " 6.70992105e+00 6.46219478e+00 7.73313318e+00 1.14093480e+01\n",
      " 1.12036156e+01 9.10914193e+00 7.19678009e+00 1.93887355e+01\n",
      " 2.35420342e-02 1.19489413e+01 5.67502456e+00 7.36672146e+00\n",
      " 4.29981141e+00 6.52583795e+00 1.36099422e+01 1.11826048e+01\n",
      " 7.15528071e+00 7.21248904e+00 7.17664196e+00 8.65735341e+00\n",
      " 2.27616103e+00 6.11993367e+00 9.39739907e+00 9.52239867e+00\n",
      " 8.74970732e+00 1.52532087e+01 5.03120087e+00 7.82793137e+00\n",
      " 2.37240840e+00 9.01938758e+00 1.62121954e+01 9.37775511e+00\n",
      " 1.08183700e+01 1.13825189e+01 1.02249796e+01 6.48773693e+00\n",
      " 1.05835701e+01 1.06388069e+01 1.53712139e+01 2.52801108e+00\n",
      " 6.82042359e+00 1.62224636e+01 9.93489872e+00 2.76103367e+00\n",
      " 1.32050245e+01 4.08483951e+00 2.85630272e+00 1.77355966e+00\n",
      " 1.38362504e+01 1.49341362e+01 8.57377892e+00 7.19972229e-01\n",
      " 3.23780879e+00 6.32372908e+00 4.88660891e+00 1.04972266e+01\n",
      " 1.17423037e+01 9.18142660e+00 1.41297578e+01 1.23241860e+01\n",
      " 7.21341798e+00 9.52758373e+00 7.24639580e+00 1.36149383e+01\n",
      " 1.05822521e+01 1.76821671e+01 4.64756683e+00 2.19693194e+01\n",
      " 3.44021189e+00 7.91522615e+00 4.83797177e+00 1.69158421e+01\n",
      " 8.91555604e+00 4.88822791e+00 6.02075741e+00 1.40723463e+01\n",
      " 5.62159414e+00 1.53862038e+01 1.91271447e+01 9.30333406e+00\n",
      " 9.12858308e+00 1.00716508e+01 8.81432337e+00 1.20040901e+01\n",
      " 7.04892412e+00 1.09696514e+01 4.21625916e+00 8.76713223e+00\n",
      " 5.59412195e+00 3.84358861e+00 1.86081272e+00 1.46084224e+01\n",
      " 3.18376318e+00 9.76376868e+00 1.91605149e+01 1.16772134e+01\n",
      " 7.30571519e+00 1.20614801e+01 5.53562912e+00 1.00698678e+01\n",
      " 1.49502325e+01 4.83641701e+00 1.01129686e+01 2.20252697e+00\n",
      " 6.70825836e+00 1.15201821e+00 4.86392489e+00 1.51630721e+01\n",
      " 1.32321436e+00 5.65025857e+00 9.50544066e+00 5.81635254e+00\n",
      " 2.24621427e+01 8.47009578e+00 4.74300931e+00 1.96613155e+01\n",
      " 1.60833327e+01 2.92788608e+00 7.14923253e+00 3.87462772e+00\n",
      " 7.50273361e+00 9.16430536e+00 9.35384225e+00 6.69333042e+00\n",
      " 1.36046694e+01 8.05445074e+00 1.06108395e+01 6.32983748e+00\n",
      " 3.35918148e+00 4.97864660e+00 6.74217016e+00 4.39546234e+00\n",
      " 9.71595954e+00 1.95776039e+01 1.29714803e+01 8.09722217e+00\n",
      " 9.00670684e+00 1.02831265e+01 7.10478100e+00 3.45404647e+00\n",
      " 6.78675240e+00 1.75588921e+00 1.55101004e+00 4.08467191e+00\n",
      " 1.52491393e+00 5.88433413e+00 6.06212207e+00 1.18136347e+01\n",
      " 8.78280760e+00 4.98122990e+00 2.90599817e+00 1.24024994e+01\n",
      " 7.04625994e+00 1.05133881e+01 1.00964022e+01 4.26333859e+00\n",
      " 7.89471241e+00 7.48660948e+00 9.33011406e+00 4.75039346e+00\n",
      " 1.16478283e+01 2.36995570e+00 5.64261573e+00 1.29231101e+01\n",
      " 1.46349571e+01 1.54058283e+00 2.86906382e+00 9.77959412e+00\n",
      " 8.93827276e+00 1.13729327e+01 6.17758793e+00 7.80108372e+00\n",
      " 8.48585758e+00 6.27110316e+00 1.41459316e+01 1.53441569e+01\n",
      " 6.36963261e+00 1.38915590e+01 1.60707022e+01 8.86924159e+00\n",
      " 1.04578193e+01 1.46254183e+01 4.59255875e+00 8.36435749e+00\n",
      " 1.81594296e+00 1.14517285e+01 9.93690702e+00 1.19053740e+01\n",
      " 1.06105851e+01 8.90202159e+00 1.22753669e+01 3.78805107e+00\n",
      " 8.33566160e+00 1.13056930e+01 1.76818627e+01 1.14581380e+01\n",
      " 6.48400554e+00 1.73387143e+01 1.92181550e+00 1.18268230e+01\n",
      " 2.06432024e+00 1.11394260e+01 9.02000493e+00 6.42975637e+00\n",
      " 1.65064002e+01 5.56098593e+00 4.66193998e+00 5.80659472e+00\n",
      " 1.19167067e+01 1.20054474e+01 1.17964519e+01 5.23466494e+00\n",
      " 6.34859666e+00 1.10367269e+01 9.53759229e+00 4.69192401e+00\n",
      " 2.79232550e+00 8.81549041e+00 6.34938836e+00 8.43964396e+00\n",
      " 9.24914924e+00 1.82850518e+01 6.63563374e+00 7.33268624e+00\n",
      " 7.19441797e+00 1.22643844e+01 5.50225602e+00 8.23326054e+00\n",
      " 1.41799627e+01 1.39087256e+01 2.44322569e+01 1.07578629e+01\n",
      " 2.34785469e+00 1.20498052e+01 1.14449330e+01 8.60477199e+00\n",
      " 1.51352054e+01 7.03591154e+00 1.68639409e+01 1.08183898e+01\n",
      " 4.25222559e+00 3.10112431e+00 7.02643781e+00 2.92489480e+00\n",
      " 5.85604578e+00 9.34381731e+00 5.24919252e+00 3.01166490e+00\n",
      " 1.53687955e+01 1.03304912e+01 1.62264655e+01 1.32097644e+01\n",
      " 7.03739539e+00 8.54997646e+00 8.19286707e+00 1.33095407e+01\n",
      " 1.78143829e+01 7.08845739e+00 6.23811575e+00 1.57355941e+01\n",
      " 5.05248105e+00 8.14906653e+00 6.35210986e+00 8.53336632e+00\n",
      " 1.58559119e+01 8.24640713e+00 5.04666043e+00 1.66951839e+01\n",
      " 1.39616745e+01 1.03652360e+01 7.89744495e+00 8.60583661e+00\n",
      " 1.52723676e+01 6.20561792e+00 1.32701911e+00 5.03003289e+00\n",
      " 1.91490322e+00 1.80538433e+01 6.46238692e+00 1.35327679e+01\n",
      " 7.22063956e+00 1.04933063e+01 8.90252079e+00 1.14276798e+01\n",
      " 7.65261134e+00 1.75999208e+00 1.18826110e+01 1.14818465e+01\n",
      " 4.94250102e+00 9.87982196e+00 4.70864435e+00 7.62125427e+00\n",
      " 5.89467666e+00 3.13495198e+00 9.25500708e+00 4.49493833e+00\n",
      " 1.44473280e+01 1.26124579e+01 6.02843621e+00 3.41652025e+00\n",
      " 9.84646179e+00 1.23271079e+01 4.63980589e+00 1.30427996e+01\n",
      " 8.52104454e+00 9.95021354e+00 6.54022177e+00 1.47533372e+01\n",
      " 2.23828804e+00 1.48385796e+01 5.80895787e+00 1.83845721e+00\n",
      " 1.00147172e+01 9.29154592e+00 6.45524031e+00 2.59657706e+00\n",
      " 1.85908791e+01 3.30913841e+00 1.32892007e+01 5.77470792e+00\n",
      " 1.37123847e+01 4.41731954e+00 1.48413817e+01 1.48444738e+01\n",
      " 3.47343198e+00 1.45863068e+01 1.05879523e+01 5.62760838e+00\n",
      " 1.21953353e+01 1.30274763e+01 5.78909022e+00 6.97704192e+00\n",
      " 1.83880474e+01 8.66597563e+00 1.60134506e+00 1.12202952e+01\n",
      " 9.00970839e+00 4.07151991e+00 8.14976987e+00 1.44033356e+01\n",
      " 6.88872472e+00 6.62972057e+00 4.96856465e+00 1.33884259e+00\n",
      " 6.36822030e+00 6.78904996e+00 1.09801624e+01 1.57340172e+01\n",
      " 2.68291677e+00 1.25928832e+01 8.86612900e+00 4.27120126e+00\n",
      " 1.43301574e+01 3.88967884e+00 1.23488400e+01 4.49524070e+00\n",
      " 5.80241048e+00 1.06428487e+01 6.95617955e+00 1.27636567e+01\n",
      " 1.10547125e+01 1.10418482e+01 1.73564671e+01 5.02624809e+00\n",
      " 8.44856109e+00 5.70628399e+00 8.25800547e+00 2.16159326e+00\n",
      " 1.10883828e+01 1.75523101e+01 9.32693428e+00 5.47829764e+00\n",
      " 1.01114071e+01 5.24798347e+00 5.02893361e+00 2.16266353e+01\n",
      " 7.50033127e+00 4.62759721e+00 4.47359833e+00 1.32023863e+01\n",
      " 1.07609386e+01 1.14638214e+01 3.15409494e+00 7.94097416e+00\n",
      " 2.28391216e+00 5.84811002e+00 5.96346491e+00 8.34815391e+00\n",
      " 5.80174758e+00 4.01722807e+00 5.50732971e+00 5.46665787e+00\n",
      " 1.22714119e+01 1.16673057e+01 7.50916888e+00 3.85818241e+00\n",
      " 4.29687722e+00 3.96597861e+00 5.94384951e+00 1.16705652e+01\n",
      " 1.53314934e+01 1.13680607e+01 1.35848029e+01 8.07241889e+00\n",
      " 1.05971648e+01 6.29548988e+00 1.50208490e+01 1.11870287e+01\n",
      " 2.82056655e+00 8.91441810e+00 1.09779609e+01 9.93838695e+00\n",
      " 8.00109442e+00 9.25870518e+00 1.28060753e+01 9.46757484e+00\n",
      " 1.21932285e+01 3.43797348e+00 1.26554546e+01 6.45985395e+00\n",
      " 5.09848138e+00 1.28692932e+00 5.48516689e+00 9.71233811e+00\n",
      " 1.11929139e+01 1.23311114e+01 5.23882571e+00 1.07346295e+01\n",
      " 4.53153954e+00 9.03311657e+00 1.40950391e+01 5.32881743e+00\n",
      " 1.58192339e+00 4.89734321e+00 1.36215314e+01 7.77732518e+00\n",
      " 9.60701019e+00 5.52138322e+00 1.36851298e+01 8.38148134e+00\n",
      " 6.22643499e+00 1.41101231e+01 4.20377190e+00 8.25156555e+00\n",
      " 4.90800471e+00 1.56486460e+01 8.12366824e+00 1.53705141e+01\n",
      " 1.03539161e+01 9.83019203e+00 1.45286830e+01 3.67631263e+00\n",
      " 1.47938939e+01 1.58259451e+01 6.82734963e+00 4.81454407e+00\n",
      " 7.39610590e+00 1.50709449e+01 1.21478480e+00 2.70142663e+01\n",
      " 4.29261774e+00 1.36823454e+01 8.40538079e+00 3.10251185e+00\n",
      " 2.32147448e+01 1.26850402e+01 3.20992305e+00 8.04043498e+00\n",
      " 4.37750332e+00 4.46111886e+00 8.66093857e+00 4.82152916e+00\n",
      " 2.17043399e+00 1.06117827e+01 1.07495980e+01 9.52644149e+00\n",
      " 1.20244000e+01 1.28261923e+01 7.03429986e+00 8.31221478e+00\n",
      " 5.40385332e+00 2.97384620e+00 5.32441089e+00 1.16060387e+01\n",
      " 1.22502714e+01 9.76386626e+00 1.16913588e+01 1.24701426e+01\n",
      " 1.47249683e+00 1.82952367e+01 4.54323730e+00 1.11067167e+01\n",
      " 3.50941459e+00 5.91532428e+00 1.22468237e+01 9.23481371e+00\n",
      " 1.58008787e+01 1.06050368e+01 7.81902305e+00 4.15711450e+00\n",
      " 7.08735110e+00 1.17727246e+01 1.49876337e+01 1.08987439e+01\n",
      " 4.88338923e+00 7.49970394e+00 4.38211540e+00 1.06455475e+01\n",
      " 3.87725950e+00 5.35781569e+00 1.18471163e+01 4.66397661e+00\n",
      " 9.26958124e+00 1.41002114e+01 1.52333890e+01 1.79740624e+00\n",
      " 1.08004654e+01 1.04161308e+01 1.89061640e+01 1.29238778e+01\n",
      " 3.68501207e+00 4.90142850e+00 3.15051461e+00 4.97337419e+00\n",
      " 5.83532855e+00 1.42330202e+01 9.85281780e+00 9.65488672e+00\n",
      " 1.27915631e+01 4.75053268e+00 1.31116127e+01 2.29522986e+01\n",
      " 1.82178363e+00 7.49578145e+00 1.84267703e+00 1.15751793e+01\n",
      " 9.39369113e+00 1.28265399e+01 9.70672903e+00 8.69017791e+00\n",
      " 1.84415932e+01 8.74014637e+00 7.27048010e+00 1.27695463e+01\n",
      " 5.04001076e+00 3.81664817e+00 5.49101442e+00 7.00164458e+00\n",
      " 1.50514964e+01 5.71358182e+00 1.34273758e+01 4.89353185e+00\n",
      " 5.10877112e+00 6.76984406e+00 3.16577238e+00 8.64386950e+00\n",
      " 5.54386491e+00 4.44594208e+00 8.54866485e+00 4.61467067e+00\n",
      " 9.43691702e+00 1.18449398e+00 9.17635059e+00 1.46168596e+01\n",
      " 4.87465716e+00 3.20145096e+00 1.84890939e+01 7.43374428e+00\n",
      " 8.53925112e+00 1.24633032e+01 1.46032537e+01 4.01030488e+00\n",
      " 3.59342535e+00 7.53502391e+00 1.33333385e+01 6.21431253e+00\n",
      " 1.29298613e+01 5.05232131e+00 5.62970679e+00 7.09000506e+00]\n",
      "0.8807474653935707\n",
      "Среднее значение :  6.284439879600751\n",
      "Дисперсия :  46.95301978485984\n",
      "Коэффициент асимметрии :  -0.08703849119974205\n",
      "Коэффициент эксцесса :  -0.010769241424138709\n"
     ]
    },
    {
     "data": {
      "image/png": "[encoded data removed]",
      "text/plain": [
       "<Figure size 432x288 with 1 Axes>"
      ]
     },
     "metadata": {
      "needs_background": "light"
     },
     "output_type": "display_data"
    },
    {
     "name": "stdout",
     "output_type": "stream",
     "text": [
      "Моделирование равномерно распределенной случайной величины c использованием линейного конгруэнтного метода\n",
      "1791005008\n",
      "Моделирование нормального распределения с использованием преобразования Бокса-Мюллера\n",
      "48.45320824351501\n"
     ]
    },
    {
     "name": "stderr",
     "output_type": "stream",
     "text": [
      "C:\\Users\\maria\\AppData\\Local\\Temp/ipykernel_10676/61434285.py:94: RuntimeWarning: overflow encountered in int_scalars\n",
      "  X=np.mod((A*X0+C),M)\n"
     ]
    }
   ],
   "source": [
    "import random \n",
    "import numpy as np  \n",
    "import matplotlib.pyplot as plt  \n",
    "from scipy.stats import kurtosis  \n",
    "from scipy.stats import skew  \n",
    "%matplotlib inline  \n",
    "  \n",
    "a, b = 5, 9  \n",
    "x_uniform = np.random.uniform(a, b, 10000)  \n",
    "  \n",
    "print(\"Среднее значение : \", np.mean(x_uniform))  \n",
    "  \n",
    "print(\"Дисперсия : \", np.var(x_uniform))  \n",
    "  \n",
    "print(\"Коэффициент асимметрии : \", skew(x_uniform))   \n",
    "  \n",
    "print(\"Коэффициент эксцесса : \", kurtosis(x_uniform))   \n",
    "  \n",
    "plt.hist(x_uniform, 10, edgecolor='k')  \n",
    "  \n",
    "count, bins, ignored = plt.hist(x_uniform, 10, edgecolor='k', density=True)  \n",
    "plt.plot(bins, np.ones_like(bins), linewidth=2, color='r')  \n",
    "plt.show() \n",
    " \n",
    " \n",
    "x_p = np.random.poisson(7, 7)  \n",
    "  \n",
    "print(\"Среднее значение : \", np.mean(x_p))  \n",
    "  \n",
    "print(\"Дисперсия : \", np.var(x_p))  \n",
    "  \n",
    "print(\"Коэффициент асимметрии : \", skew(x_p))   \n",
    "  \n",
    "print(\"Коэффициент эксцесса : \", kurtosis(x_p))   \n",
    "  \n",
    "count, bins, ignored = plt.hist(x_p, 20, edgecolor='k', density=True) \n",
    " \n",
    " \n",
    " \n",
    "x_r = np.random.rayleigh(3, 1000)  \n",
    "  \n",
    "print(\"Среднее значение : \", np.mean(x_r))  \n",
    "  \n",
    "print(\"Дисперсия : \", np.var(x_r))  \n",
    "  \n",
    "print(\"Коэффициент асимметрии : \", skew(x_r))   \n",
    "  \n",
    "print(\"Коэффициент эксцесса : \", kurtosis(x_r))   \n",
    "  \n",
    "count, bins, ignored = plt.hist(x_r, 20, edgecolor='k', density=True)\n",
    "\n",
    "A1 = np.random.normal(0, 7, 1000) \n",
    "B1 = np.random.normal(0, 7, 1000)  \n",
    "\n",
    "\n",
    "\n",
    "R = np.sqrt(np.square(A1)+np.square(B1))\n",
    "print(\"Моделирование распределения Рэлея\")\n",
    "print(R) \n",
    " \n",
    " \n",
    "u1 = random.random() \n",
    " \n",
    " \n",
    "u2 = random.random() \n",
    " \n",
    " \n",
    " \n",
    "R = (u1**2 + u2**2)**0.5 \n",
    "print(R) \n",
    " \n",
    "mu, sigma = 6, 7   \n",
    "x_n = np.random.normal(6, 7, 1000)   \n",
    "   \n",
    "print(\"Среднее значение : \", np.mean(x_n))   \n",
    "   \n",
    "print(\"Дисперсия : \", np.var(x_n))   \n",
    "   \n",
    "print(\"Коэффициент асимметрии : \", skew(x_n))    \n",
    "   \n",
    "print(\"Коэффициент эксцесса : \", kurtosis(x_n))    \n",
    "   \n",
    "   \n",
    "count, bins, ignored = plt.hist(x_n, 30, edgecolor='k', density = True)   \n",
    "plt.plot(bins, 1/(sigma * np.sqrt(2*np.pi)) * np.exp(- (bins - mu)**2 / (2 * sigma**2)), linewidth=2, color='r')   \n",
    "plt.show()  \n",
    "  \n",
    "  \n",
    "M=(2**31)-1\n",
    "A = 16807\n",
    "C = 1\n",
    "seed = 12345\n",
    "X0=np.mod((A*seed+1),M)\n",
    "X=np.mod((A*X0+C),M)\n",
    "\n",
    "print(\"Моделирование равномерно распределенной случайной величины c использованием линейного конгруэнтного метода\")\n",
    "print(X)\n",
    "\n",
    "\n",
    "U1 = random.random()  \n",
    "\n",
    "U2 = random.random()  \n",
    "\n",
    "  \n",
    "  \n",
    "Z0 = ((-2*np.log(U1))**0.5)*np.cos(2*np.pi*U2)  \n",
    "Z1 = ((-2*np.log(U1))**0.5)*np.sin(2*np.pi*U2)  \n",
    "  \n",
    "\n",
    "Z = Z0*np.mean(x_n) + np.var(x_n)  \n",
    "print(\"Моделирование нормального распределения с использованием преобразования Бокса-Мюллера\")\n",
    "print(Z)"
   ]
  },
  {
   "cell_type": "code",
   "execution_count": null,
   "id": "851cec62",
   "metadata": {},
   "outputs": [],
   "source": []
  }
 ],
 "metadata": {
  "colab": {
   "name": "Practice3_prob_distrib_model.ipynb",
   "provenance": []
  },
  "kernelspec": {
   "display_name": "Python 3 (ipykernel)",
   "language": "python",
   "name": "python3"
  },
  "language_info": {
   "codemirror_mode": {
    "name": "ipython",
    "version": 3
   },
   "file_extension": ".py",
   "mimetype": "text/x-python",
   "name": "python",
   "nbconvert_exporter": "python",
   "pygments_lexer": "ipython3",
   "version": "3.9.7"
  }
 },
 "nbformat": 4,
 "nbformat_minor": 5
}
